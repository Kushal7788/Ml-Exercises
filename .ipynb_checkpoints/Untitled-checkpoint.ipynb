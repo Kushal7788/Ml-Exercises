{
 "cells": [
  {
   "cell_type": "code",
   "execution_count": null,
   "metadata": {},
   "outputs": [],
   "source": [
    "import math\n",
    "import pandas as pd\n",
    "import numpy as np\n",
    "import matplotlib.pyplot as plt"
   ]
  },
  {
   "cell_type": "code",
   "execution_count": null,
   "metadata": {},
   "outputs": [],
   "source": [
    "df = pd.read_csv('/home/kushal/Downloads/test_scores.csv')\n",
    "df"
   ]
  },
  {
   "cell_type": "code",
   "execution_count": null,
   "metadata": {},
   "outputs": [],
   "source": [
    "def grd(x,y):\n",
    "    m=b=0\n",
    "    it = 0\n",
    "    lr = 0.0002\n",
    "    n = len(x)\n",
    "    pr = 1000\n",
    "    while True :\n",
    "        y_p = m*x + b\n",
    "        cost = (1/n) * sum([val**2 for val in (y-y_p)])\n",
    "        md = -(2/n)*sum(x*(y-y_p))\n",
    "        bd = -(2/n)*sum(y-y_p)\n",
    "        m = m - lr * md\n",
    "        b = b - lr * bd \n",
    "        it = it+1\n",
    "        if math.isclose(pr, cost, rel_tol=1e-7, abs_tol=0.0):\n",
    "            break\n",
    "        else:\n",
    "            pr = cost \n",
    "        print (\"m {}, b {}, cost {} iteration {}\".format(m,b,cost,it))"
   ]
  },
  {
   "cell_type": "code",
   "execution_count": null,
   "metadata": {},
   "outputs": [],
   "source": [
    "x = np.array(df.math)\n",
    "y = np.array(df.cs)\n",
    "grd(x,y)"
   ]
  },
  {
   "cell_type": "code",
   "execution_count": null,
   "metadata": {},
   "outputs": [],
   "source": []
  }
 ],
 "metadata": {
  "kernelspec": {
   "display_name": "Python 3",
   "language": "python",
   "name": "python3"
  },
  "language_info": {
   "codemirror_mode": {
    "name": "ipython",
    "version": 3
   },
   "file_extension": ".py",
   "mimetype": "text/x-python",
   "name": "python",
   "nbconvert_exporter": "python",
   "pygments_lexer": "ipython3",
   "version": "3.6.8"
  }
 },
 "nbformat": 4,
 "nbformat_minor": 2
}
